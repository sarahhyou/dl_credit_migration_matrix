{
 "cells": [
  {
   "cell_type": "code",
   "execution_count": 1,
   "metadata": {},
   "outputs": [],
   "source": [
    "import pandas as pd\n",
    "import wrds"
   ]
  },
  {
   "cell_type": "code",
   "execution_count": 2,
   "metadata": {},
   "outputs": [
    {
     "name": "stdout",
     "output_type": "stream",
     "text": [
      "WRDS recommends setting up a .pgpass file.\n",
      "Created .pgpass file successfully.\n",
      "You can create this file yourself at any time with the create_pgpass_file() function.\n",
      "Loading library list...\n",
      "Done\n"
     ]
    }
   ],
   "source": [
    "###################\n",
    "# Connect to WRDS #\n",
    "###################\n",
    "conn=wrds.Connection()"
   ]
  },
  {
   "cell_type": "code",
   "execution_count": 4,
   "metadata": {},
   "outputs": [],
   "source": [
    "sp500 = conn.raw_sql(\"\"\"\n",
    "                        select a.*, b.date, b.cusip\n",
    "                        from crsp.msp500list as a,\n",
    "                        crsp.msf as b\n",
    "                        where a.permno=b.permno\n",
    "                        and b.date >= a.start and b.date<= a.ending\n",
    "                        and b.date>='01/01/2000'\n",
    "                        and b.date <= '12/29/2023'\n",
    "                        order by date;\n",
    "                        \"\"\", date_cols=['start', 'ending', 'date'])"
   ]
  },
  {
   "cell_type": "code",
   "execution_count": 5,
   "metadata": {},
   "outputs": [],
   "source": [
    "# Add Other Descriptive Variables\n",
    "\n",
    "mse = conn.raw_sql(\"\"\"\n",
    "                        select comnam, ticker, permno\n",
    "                        from crsp.msenames\n",
    "                        \"\"\", date_cols=['namedt', 'nameendt'])"
   ]
  },
  {
   "cell_type": "code",
   "execution_count": 11,
   "metadata": {},
   "outputs": [
    {
     "data": {
      "text/html": [
       "<div>\n",
       "<style scoped>\n",
       "    .dataframe tbody tr th:only-of-type {\n",
       "        vertical-align: middle;\n",
       "    }\n",
       "\n",
       "    .dataframe tbody tr th {\n",
       "        vertical-align: top;\n",
       "    }\n",
       "\n",
       "    .dataframe thead th {\n",
       "        text-align: right;\n",
       "    }\n",
       "</style>\n",
       "<table border=\"1\" class=\"dataframe\">\n",
       "  <thead>\n",
       "    <tr style=\"text-align: right;\">\n",
       "      <th></th>\n",
       "      <th>permno</th>\n",
       "      <th>start</th>\n",
       "      <th>ending</th>\n",
       "      <th>datadate</th>\n",
       "      <th>cusip</th>\n",
       "      <th>comnam</th>\n",
       "      <th>ticker</th>\n",
       "    </tr>\n",
       "  </thead>\n",
       "  <tbody>\n",
       "    <tr>\n",
       "      <th>67709</th>\n",
       "      <td>21792</td>\n",
       "      <td>1985-07-25</td>\n",
       "      <td>2023-12-29</td>\n",
       "      <td>2001-07-31</td>\n",
       "      <td>15189T10</td>\n",
       "      <td>RELIANT ENERGY INC TX</td>\n",
       "      <td>REI</td>\n",
       "    </tr>\n",
       "    <tr>\n",
       "      <th>479683</th>\n",
       "      <td>26403</td>\n",
       "      <td>1976-07-01</td>\n",
       "      <td>2023-12-29</td>\n",
       "      <td>2010-06-30</td>\n",
       "      <td>25468710</td>\n",
       "      <td>DISNEY WALT CO</td>\n",
       "      <td>DIS</td>\n",
       "    </tr>\n",
       "    <tr>\n",
       "      <th>152017</th>\n",
       "      <td>15720</td>\n",
       "      <td>1925-12-31</td>\n",
       "      <td>2023-12-29</td>\n",
       "      <td>2003-05-30</td>\n",
       "      <td>28102010</td>\n",
       "      <td>EDISON INTERNATIONAL</td>\n",
       "      <td>EIX</td>\n",
       "    </tr>\n",
       "    <tr>\n",
       "      <th>76082</th>\n",
       "      <td>45495</td>\n",
       "      <td>1985-01-10</td>\n",
       "      <td>2014-08-18</td>\n",
       "      <td>2001-09-28</td>\n",
       "      <td>G7665A10</td>\n",
       "      <td>ROWAN DRILLING CO</td>\n",
       "      <td>RDC</td>\n",
       "    </tr>\n",
       "    <tr>\n",
       "      <th>147566</th>\n",
       "      <td>40539</td>\n",
       "      <td>1985-09-26</td>\n",
       "      <td>2023-12-29</td>\n",
       "      <td>2003-04-30</td>\n",
       "      <td>87254010</td>\n",
       "      <td>T J X COMPANIES INC NEW</td>\n",
       "      <td>TJX</td>\n",
       "    </tr>\n",
       "  </tbody>\n",
       "</table>\n",
       "</div>"
      ],
      "text/plain": [
       "        permno      start     ending   datadate     cusip  \\\n",
       "67709    21792 1985-07-25 2023-12-29 2001-07-31  15189T10   \n",
       "479683   26403 1976-07-01 2023-12-29 2010-06-30  25468710   \n",
       "152017   15720 1925-12-31 2023-12-29 2003-05-30  28102010   \n",
       "76082    45495 1985-01-10 2014-08-18 2001-09-28  G7665A10   \n",
       "147566   40539 1985-09-26 2023-12-29 2003-04-30  87254010   \n",
       "\n",
       "                         comnam ticker  \n",
       "67709     RELIANT ENERGY INC TX    REI  \n",
       "479683           DISNEY WALT CO    DIS  \n",
       "152017     EDISON INTERNATIONAL    EIX  \n",
       "76082         ROWAN DRILLING CO    RDC  \n",
       "147566  T J X COMPANIES INC NEW    TJX  "
      ]
     },
     "execution_count": 11,
     "metadata": {},
     "output_type": "execute_result"
    }
   ],
   "source": [
    "sp500_full = pd.merge(sp500, mse, how = 'left', on = 'permno')\n",
    "sp500_full.rename(columns={'date':'datadate'},inplace=True)\n",
    "sp500_full.sample(5)"
   ]
  },
  {
   "cell_type": "code",
   "execution_count": 37,
   "metadata": {},
   "outputs": [],
   "source": [
    "#conn.list_tables(library='comp')"
   ]
  },
  {
   "cell_type": "code",
   "execution_count": 31,
   "metadata": {},
   "outputs": [],
   "source": [
    "income = conn.raw_sql(\"\"\"select datadate, cusip, tic, conm, revt, xsga, ebit, dp, ni\n",
    "                        from comp.funda\n",
    "                        where datadate >= '01/01/2000'\"\"\",\n",
    "                        date_cols=['datadate'])"
   ]
  },
  {
   "cell_type": "code",
   "execution_count": 34,
   "metadata": {},
   "outputs": [
    {
     "data": {
      "text/html": [
       "<div>\n",
       "<style scoped>\n",
       "    .dataframe tbody tr th:only-of-type {\n",
       "        vertical-align: middle;\n",
       "    }\n",
       "\n",
       "    .dataframe tbody tr th {\n",
       "        vertical-align: top;\n",
       "    }\n",
       "\n",
       "    .dataframe thead th {\n",
       "        text-align: right;\n",
       "    }\n",
       "</style>\n",
       "<table border=\"1\" class=\"dataframe\">\n",
       "  <thead>\n",
       "    <tr style=\"text-align: right;\">\n",
       "      <th></th>\n",
       "      <th>datadate</th>\n",
       "      <th>cusip</th>\n",
       "      <th>ticker</th>\n",
       "      <th>company.name</th>\n",
       "      <th>revt</th>\n",
       "      <th>xsga</th>\n",
       "      <th>ebit</th>\n",
       "      <th>dp</th>\n",
       "      <th>ni</th>\n",
       "    </tr>\n",
       "  </thead>\n",
       "  <tbody>\n",
       "    <tr>\n",
       "      <th>324812</th>\n",
       "      <td>2015-12-31</td>\n",
       "      <td>706327103</td>\n",
       "      <td>PBA</td>\n",
       "      <td>PEMBINA PIPELINE CORP</td>\n",
       "      <td>4635.000</td>\n",
       "      <td>143.000</td>\n",
       "      <td>665.000</td>\n",
       "      <td>272.000</td>\n",
       "      <td>406.000</td>\n",
       "    </tr>\n",
       "    <tr>\n",
       "      <th>454707</th>\n",
       "      <td>2020-12-31</td>\n",
       "      <td>89102U103</td>\n",
       "      <td>TRCH</td>\n",
       "      <td>TORCHLIGHT ENERGY RESOURCES</td>\n",
       "      <td>0.193</td>\n",
       "      <td>3.527</td>\n",
       "      <td>-6.451</td>\n",
       "      <td>0.821</td>\n",
       "      <td>-12.782</td>\n",
       "    </tr>\n",
       "    <tr>\n",
       "      <th>256654</th>\n",
       "      <td>2004-12-31</td>\n",
       "      <td>96808B107</td>\n",
       "      <td>OATS</td>\n",
       "      <td>WILD OATS MARKETS INC</td>\n",
       "      <td>1048.164</td>\n",
       "      <td>301.744</td>\n",
       "      <td>-4.894</td>\n",
       "      <td>28.059</td>\n",
       "      <td>-40.019</td>\n",
       "    </tr>\n",
       "    <tr>\n",
       "      <th>29319</th>\n",
       "      <td>2011-03-31</td>\n",
       "      <td>44949K107</td>\n",
       "      <td>IEHC</td>\n",
       "      <td>IEH CORP</td>\n",
       "      <td>13.824</td>\n",
       "      <td>1.984</td>\n",
       "      <td>2.986</td>\n",
       "      <td>0.161</td>\n",
       "      <td>1.670</td>\n",
       "    </tr>\n",
       "    <tr>\n",
       "      <th>29996</th>\n",
       "      <td>2010-12-31</td>\n",
       "      <td>74624H103</td>\n",
       "      <td>PSWS</td>\n",
       "      <td>PURESAFE WATER SYSTEMS INC</td>\n",
       "      <td>0.000</td>\n",
       "      <td>3.499</td>\n",
       "      <td>-3.540</td>\n",
       "      <td>0.041</td>\n",
       "      <td>-6.640</td>\n",
       "    </tr>\n",
       "  </tbody>\n",
       "</table>\n",
       "</div>"
      ],
      "text/plain": [
       "         datadate      cusip ticker                 company.name      revt  \\\n",
       "324812 2015-12-31  706327103    PBA        PEMBINA PIPELINE CORP  4635.000   \n",
       "454707 2020-12-31  89102U103   TRCH  TORCHLIGHT ENERGY RESOURCES     0.193   \n",
       "256654 2004-12-31  96808B107   OATS        WILD OATS MARKETS INC  1048.164   \n",
       "29319  2011-03-31  44949K107   IEHC                     IEH CORP    13.824   \n",
       "29996  2010-12-31  74624H103   PSWS   PURESAFE WATER SYSTEMS INC     0.000   \n",
       "\n",
       "           xsga     ebit       dp       ni  \n",
       "324812  143.000  665.000  272.000  406.000  \n",
       "454707    3.527   -6.451    0.821  -12.782  \n",
       "256654  301.744   -4.894   28.059  -40.019  \n",
       "29319     1.984    2.986    0.161    1.670  \n",
       "29996     3.499   -3.540    0.041   -6.640  "
      ]
     },
     "execution_count": 34,
     "metadata": {},
     "output_type": "execute_result"
    }
   ],
   "source": [
    "income.dropna(inplace=True)\n",
    "income.rename(columns={'tic':'ticker','conm':'company.name'},inplace=True)\n",
    "income.sample(5)"
   ]
  },
  {
   "cell_type": "code",
   "execution_count": 40,
   "metadata": {},
   "outputs": [],
   "source": [
    "#TODO: figure out how to fucking merge the two together\n",
    "conn.close()"
   ]
  }
 ],
 "metadata": {
  "kernelspec": {
   "display_name": ".venv",
   "language": "python",
   "name": "python3"
  },
  "language_info": {
   "codemirror_mode": {
    "name": "ipython",
    "version": 3
   },
   "file_extension": ".py",
   "mimetype": "text/x-python",
   "name": "python",
   "nbconvert_exporter": "python",
   "pygments_lexer": "ipython3",
   "version": "3.11.9"
  }
 },
 "nbformat": 4,
 "nbformat_minor": 2
}
